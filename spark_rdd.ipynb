{
  "nbformat": 4,
  "nbformat_minor": 0,
  "metadata": {
    "colab": {
      "provenance": []
    },
    "kernelspec": {
      "name": "python3",
      "display_name": "Python 3"
    },
    "language_info": {
      "name": "python"
    }
  },
  "cells": [
    {
      "cell_type": "markdown",
      "source": [
        "# Spark - RDD (Resilient Distributed Datasets)\n",
        "- Dados imutáveis, distribuídos pelo cluster\n",
        "- Processamento em memória\n",
        "- Tolerante a falha\n",
        "- operações sobre um RDD criam um novo RDD\n",
        "- [Transformações](https://spark.apache.org/docs/latest/rdd-programming-guide.html#transformations)\n",
        "- [Ações](https://spark.apache.org/docs/latest/rdd-programming-guide.html#actions)\n",
        "\n",
        "\n",
        "\n",
        "    "
      ],
      "metadata": {
        "id": "CvrZR3hOslcp"
      }
    },
    {
      "cell_type": "code",
      "source": [
        "!pip install pyspark"
      ],
      "metadata": {
        "colab": {
          "base_uri": "https://localhost:8080/"
        },
        "id": "VAIxp4JfJzLU",
        "outputId": "a81503c9-5a06-40e0-a939-99fd150b7bf5"
      },
      "execution_count": null,
      "outputs": [
        {
          "output_type": "stream",
          "name": "stdout",
          "text": [
            "Collecting pyspark\n",
            "  Downloading pyspark-3.5.0.tar.gz (316.9 MB)\n",
            "\u001b[2K     \u001b[90m━━━━━━━━━━━━━━━━━━━━━━━━━━━━━━━━━━━━━━━━\u001b[0m \u001b[32m316.9/316.9 MB\u001b[0m \u001b[31m3.8 MB/s\u001b[0m eta \u001b[36m0:00:00\u001b[0m\n",
            "\u001b[?25h  Preparing metadata (setup.py) ... \u001b[?25l\u001b[?25hdone\n",
            "Requirement already satisfied: py4j==0.10.9.7 in /usr/local/lib/python3.10/dist-packages (from pyspark) (0.10.9.7)\n",
            "Building wheels for collected packages: pyspark\n",
            "  Building wheel for pyspark (setup.py) ... \u001b[?25l\u001b[?25hdone\n",
            "  Created wheel for pyspark: filename=pyspark-3.5.0-py2.py3-none-any.whl size=317425345 sha256=026d7ff549164f753250712b155c690079c4612195999963aad92ec33f52b7cf\n",
            "  Stored in directory: /root/.cache/pip/wheels/41/4e/10/c2cf2467f71c678cfc8a6b9ac9241e5e44a01940da8fbb17fc\n",
            "Successfully built pyspark\n",
            "Installing collected packages: pyspark\n",
            "Successfully installed pyspark-3.5.0\n"
          ]
        }
      ]
    },
    {
      "cell_type": "markdown",
      "source": [
        "## Importando as bibliotecas"
      ],
      "metadata": {
        "id": "AfgNTdT4s0oc"
      }
    },
    {
      "cell_type": "code",
      "execution_count": 7,
      "metadata": {
        "id": "MPKTSUu2JtIX"
      },
      "outputs": [],
      "source": [
        "import pyspark\n",
        "from pyspark.sql import SparkSession"
      ]
    },
    {
      "cell_type": "markdown",
      "source": [
        "## Criando um SparkSession"
      ],
      "metadata": {
        "id": "j3M7XPBzs5ft"
      }
    },
    {
      "cell_type": "code",
      "source": [
        "spark = (\n",
        "    SparkSession\n",
        "    .builder\n",
        "    .appName('RDD_SPARK')\n",
        "    .getOrCreate()\n",
        ")"
      ],
      "metadata": {
        "id": "QxmY1trsJvV3"
      },
      "execution_count": 8,
      "outputs": []
    },
    {
      "cell_type": "markdown",
      "source": [
        "## Criando um SparkContext"
      ],
      "metadata": {
        "id": "Lxtesfr7s9Ok"
      }
    },
    {
      "cell_type": "code",
      "source": [
        "sc = spark.sparkContext"
      ],
      "metadata": {
        "id": "pM93meprJx6b"
      },
      "execution_count": 9,
      "outputs": []
    },
    {
      "cell_type": "markdown",
      "source": [
        "## parallelize\n",
        "- É um método do Spark que cria um RDD (Resilient Distributed Dataset) no programa driver. Esse RDD pode ser processado em paralelo."
      ],
      "metadata": {
        "id": "Yz-6gEZmtr6a"
      }
    },
    {
      "cell_type": "code",
      "source": [
        "numeros = sc.parallelize([1, 2, 3, 4, 5, 6, 7, 8, 9, 10, 11, 12, 13, 14, 15])\n",
        "numeros2 = sc.parallelize([10, 11, 12, 13, 14, 15, 16])"
      ],
      "metadata": {
        "id": "JgCgJNRwKJpX"
      },
      "execution_count": 28,
      "outputs": []
    },
    {
      "cell_type": "markdown",
      "source": [
        "## collect\n",
        "- Exibe todos os elementos"
      ],
      "metadata": {
        "id": "mYk9TephvOS8"
      }
    },
    {
      "cell_type": "code",
      "source": [
        "numeros.collect()"
      ],
      "metadata": {
        "colab": {
          "base_uri": "https://localhost:8080/"
        },
        "id": "RS0Vq9nhvOfj",
        "outputId": "a9b1a60d-bbff-454d-da08-06cce4bc467e"
      },
      "execution_count": 15,
      "outputs": [
        {
          "output_type": "execute_result",
          "data": {
            "text/plain": [
              "[1, 2, 3, 4, 5, 6, 7, 8, 9, 10, 11, 12, 13, 14, 15]"
            ]
          },
          "metadata": {},
          "execution_count": 15
        }
      ]
    },
    {
      "cell_type": "markdown",
      "source": [
        "## take\n",
        "- Exibe os n primeiros elementos"
      ],
      "metadata": {
        "id": "qdB8tm2tuMfv"
      }
    },
    {
      "cell_type": "code",
      "source": [
        "numeros.take(5)"
      ],
      "metadata": {
        "colab": {
          "base_uri": "https://localhost:8080/"
        },
        "id": "Ln8oi_k_uMj_",
        "outputId": "5f04d9a1-9c13-4de2-ba35-43d17f2ae425"
      },
      "execution_count": 12,
      "outputs": [
        {
          "output_type": "execute_result",
          "data": {
            "text/plain": [
              "[1, 2, 3, 4, 5]"
            ]
          },
          "metadata": {},
          "execution_count": 12
        }
      ]
    },
    {
      "cell_type": "markdown",
      "source": [
        "## top\n",
        "- Exibe os n maiores elementos"
      ],
      "metadata": {
        "id": "9wwrtSmpuMoL"
      }
    },
    {
      "cell_type": "code",
      "source": [
        "numeros.top(5)"
      ],
      "metadata": {
        "colab": {
          "base_uri": "https://localhost:8080/"
        },
        "id": "NRAf251yuMuW",
        "outputId": "7325f333-f851-4c9e-8e2c-0226f2c97214"
      },
      "execution_count": 14,
      "outputs": [
        {
          "output_type": "execute_result",
          "data": {
            "text/plain": [
              "[15, 14, 13, 12, 11]"
            ]
          },
          "metadata": {},
          "execution_count": 14
        }
      ]
    },
    {
      "cell_type": "markdown",
      "source": [
        "## count\n",
        "- Retorna a quantidade de dados"
      ],
      "metadata": {
        "id": "RmEzuavOuMyb"
      }
    },
    {
      "cell_type": "code",
      "source": [
        "numeros.count()"
      ],
      "metadata": {
        "colab": {
          "base_uri": "https://localhost:8080/"
        },
        "id": "i9zhBeGhuM2B",
        "outputId": "e5f13cbe-add3-4d42-8a74-868110f55dae"
      },
      "execution_count": 16,
      "outputs": [
        {
          "output_type": "execute_result",
          "data": {
            "text/plain": [
              "15"
            ]
          },
          "metadata": {},
          "execution_count": 16
        }
      ]
    },
    {
      "cell_type": "markdown",
      "source": [
        "## mean\n",
        "- Retorna a média dos elementos"
      ],
      "metadata": {
        "id": "aClvEFnsvugo"
      }
    },
    {
      "cell_type": "code",
      "source": [
        "numeros.mean()"
      ],
      "metadata": {
        "colab": {
          "base_uri": "https://localhost:8080/"
        },
        "id": "ZPbf2GTSvukd",
        "outputId": "6e3960d9-698d-416b-f8e6-7e408f95240c"
      },
      "execution_count": 17,
      "outputs": [
        {
          "output_type": "execute_result",
          "data": {
            "text/plain": [
              "8.0"
            ]
          },
          "metadata": {},
          "execution_count": 17
        }
      ]
    },
    {
      "cell_type": "markdown",
      "source": [
        "## sum\n",
        "- Retorna a soma de todos os elementos"
      ],
      "metadata": {
        "id": "ZMMMbUAtvuog"
      }
    },
    {
      "cell_type": "code",
      "source": [
        "numeros.sum()"
      ],
      "metadata": {
        "colab": {
          "base_uri": "https://localhost:8080/"
        },
        "id": "9YOkMs7GvusS",
        "outputId": "3529b896-2801-4860-e983-4c6453d4a968"
      },
      "execution_count": 18,
      "outputs": [
        {
          "output_type": "execute_result",
          "data": {
            "text/plain": [
              "120"
            ]
          },
          "metadata": {},
          "execution_count": 18
        }
      ]
    },
    {
      "cell_type": "markdown",
      "source": [
        "## max\n",
        "- Retorna o maior valor"
      ],
      "metadata": {
        "id": "-4-z23tpvuv_"
      }
    },
    {
      "cell_type": "code",
      "source": [
        "numeros.max()"
      ],
      "metadata": {
        "colab": {
          "base_uri": "https://localhost:8080/"
        },
        "id": "kcaA805wvuz5",
        "outputId": "1918a0b2-f729-4174-95d5-3001f0727f70"
      },
      "execution_count": 19,
      "outputs": [
        {
          "output_type": "execute_result",
          "data": {
            "text/plain": [
              "15"
            ]
          },
          "metadata": {},
          "execution_count": 19
        }
      ]
    },
    {
      "cell_type": "markdown",
      "source": [
        "## min\n",
        "- Retorna o menor valor"
      ],
      "metadata": {
        "id": "ut5k755Yvu3z"
      }
    },
    {
      "cell_type": "code",
      "source": [
        "numeros.min()"
      ],
      "metadata": {
        "colab": {
          "base_uri": "https://localhost:8080/"
        },
        "id": "jmM55kYrvu7v",
        "outputId": "7561d0b3-2ef3-4a93-8615-9913f40658e6"
      },
      "execution_count": 20,
      "outputs": [
        {
          "output_type": "execute_result",
          "data": {
            "text/plain": [
              "1"
            ]
          },
          "metadata": {},
          "execution_count": 20
        }
      ]
    },
    {
      "cell_type": "markdown",
      "source": [
        "## stdev\n",
        "- Retorna o desvio padrão"
      ],
      "metadata": {
        "id": "tWH_u7AMvu_m"
      }
    },
    {
      "cell_type": "code",
      "source": [
        "numeros.stdev()"
      ],
      "metadata": {
        "colab": {
          "base_uri": "https://localhost:8080/"
        },
        "id": "NIY8M8mIvvDE",
        "outputId": "9656bad8-9bbc-418a-edb4-544757371430"
      },
      "execution_count": 21,
      "outputs": [
        {
          "output_type": "execute_result",
          "data": {
            "text/plain": [
              "4.320493798938574"
            ]
          },
          "metadata": {},
          "execution_count": 21
        }
      ]
    },
    {
      "cell_type": "markdown",
      "source": [
        "## Funções de Transformações"
      ],
      "metadata": {
        "id": "L1umlhtw80-Q"
      }
    },
    {
      "cell_type": "markdown",
      "source": [
        "### filter\n",
        "- Permite aplicar uma função de filtro a uma sequência de elementos, retornando apenas os elementos que atendem à condição especificada"
      ],
      "metadata": {
        "id": "TJuHdlSGvvG6"
      }
    },
    {
      "cell_type": "code",
      "source": [
        "# retornando os numeros maiores que 10\n",
        "maiores_que_10 = numeros.filter(lambda x: x > 10)\n",
        "maiores_que_10.collect()"
      ],
      "metadata": {
        "colab": {
          "base_uri": "https://localhost:8080/"
        },
        "id": "N7QvQxyHvvKv",
        "outputId": "2024bc37-986b-41dc-dfc9-61056ddd4186"
      },
      "execution_count": 23,
      "outputs": [
        {
          "output_type": "execute_result",
          "data": {
            "text/plain": [
              "[11, 12, 13, 14, 15]"
            ]
          },
          "metadata": {},
          "execution_count": 23
        }
      ]
    },
    {
      "cell_type": "markdown",
      "source": [
        "### map\n",
        "- Permite aplicar uma função a todos os elementos de um iterável"
      ],
      "metadata": {
        "id": "kQ_AsjPIvvOv"
      }
    },
    {
      "cell_type": "code",
      "source": [
        "metade = numeros.map(lambda x: x / 2)\n",
        "metade.collect()"
      ],
      "metadata": {
        "colab": {
          "base_uri": "https://localhost:8080/"
        },
        "id": "mIe7HDH8vvSa",
        "outputId": "edce9022-e5c0-4847-b6a4-a0ffb8d3c606"
      },
      "execution_count": 24,
      "outputs": [
        {
          "output_type": "execute_result",
          "data": {
            "text/plain": [
              "[0.5, 1.0, 1.5, 2.0, 2.5, 3.0, 3.5, 4.0, 4.5, 5.0, 5.5, 6.0, 6.5, 7.0, 7.5]"
            ]
          },
          "metadata": {},
          "execution_count": 24
        }
      ]
    },
    {
      "cell_type": "markdown",
      "source": [
        "### union\n",
        "- Retorna a união dos rdds"
      ],
      "metadata": {
        "id": "qq1qcQSTvvWZ"
      }
    },
    {
      "cell_type": "code",
      "source": [
        "# numeros = sc.parallelize([1, 2, 3, 4, 5, 6, 7, 8, 9, 10, 11, 12, 13, 14, 15])\n",
        "# numeros2 = sc.parallelize([10, 11, 12, 13, 14, 15, 16])\n",
        "union = numeros.union(numeros2)\n",
        "union.collect()"
      ],
      "metadata": {
        "colab": {
          "base_uri": "https://localhost:8080/"
        },
        "id": "nnQh1EmdvvaA",
        "outputId": "3a7e2ae5-69e6-4b2d-c637-8a6cef1b9466"
      },
      "execution_count": 29,
      "outputs": [
        {
          "output_type": "execute_result",
          "data": {
            "text/plain": [
              "[1, 2, 3, 4, 5, 6, 7, 8, 9, 10, 11, 12, 13, 14, 15, 10, 11, 12, 13, 14, 15, 16]"
            ]
          },
          "metadata": {},
          "execution_count": 29
        }
      ]
    },
    {
      "cell_type": "markdown",
      "source": [
        "### intersection\n",
        "- Retorna os elementos comuns"
      ],
      "metadata": {
        "id": "oo3Ou9P7vveE"
      }
    },
    {
      "cell_type": "code",
      "source": [
        "# numeros = sc.parallelize([1, 2, 3, 4, 5, 6, 7, 8, 9, 10, 11, 12, 13, 14, 15])\n",
        "# numeros2 = sc.parallelize([10, 11, 12, 13, 14, 15, 16])\n",
        "intersection = numeros.intersection(numeros2)\n",
        "intersection.collect()"
      ],
      "metadata": {
        "colab": {
          "base_uri": "https://localhost:8080/"
        },
        "id": "3TwIchqcvvhl",
        "outputId": "88058757-b62d-456b-f1ea-0ddd086f6cc6"
      },
      "execution_count": 30,
      "outputs": [
        {
          "output_type": "execute_result",
          "data": {
            "text/plain": [
              "[12, 13, 10, 14, 11, 15]"
            ]
          },
          "metadata": {},
          "execution_count": 30
        }
      ]
    },
    {
      "cell_type": "markdown",
      "source": [
        "### subtract\n",
        "- Retorna a diferença dos elementos que estão no `numeros` mas não estão em `numeros2`"
      ],
      "metadata": {
        "id": "_uScOEWGJfNO"
      }
    },
    {
      "cell_type": "code",
      "source": [
        "# numeros = sc.parallelize([1, 2, 3, 4, 5, 6, 7, 8, 9, 10, 11, 12, 13, 14, 15])\n",
        "# numeros2 = sc.parallelize([10, 11, 12, 13, 14, 15, 16])\n",
        "subtract = numeros.subtract(numeros2)\n",
        "subtract.collect()"
      ],
      "metadata": {
        "colab": {
          "base_uri": "https://localhost:8080/"
        },
        "id": "ObIhJBy2I7SB",
        "outputId": "7e62b67a-052b-45be-f3a4-d16e6c29b366"
      },
      "execution_count": 33,
      "outputs": [
        {
          "output_type": "execute_result",
          "data": {
            "text/plain": [
              "[4, 8, 1, 5, 9, 2, 6, 3, 7]"
            ]
          },
          "metadata": {},
          "execution_count": 33
        }
      ]
    }
  ]
}